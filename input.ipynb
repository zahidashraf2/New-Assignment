{
 "cells": [
  {
   "cell_type": "code",
   "execution_count": 11,
   "metadata": {},
   "outputs": [
    {
     "ename": "SyntaxError",
     "evalue": "invalid syntax (2368420936.py, line 2)",
     "output_type": "error",
     "traceback": [
      "\u001b[1;36m  Cell \u001b[1;32mIn[11], line 2\u001b[1;36m\u001b[0m\n\u001b[1;33m    fruits: dict =(\"ä\" : \"apple\", \"B\" : \"banana\", \"c\" : \"cherry\")\u001b[0m\n\u001b[1;37m                       ^\u001b[0m\n\u001b[1;31mSyntaxError\u001b[0m\u001b[1;31m:\u001b[0m invalid syntax\n"
     ]
    }
   ],
   "source": [
    "fruits = [\"apple\",\"banana\",\"cherry\"]\n",
    "fruits: dict =(\"ä\" : \"apple\", \"B\" : \"banana\", \"c\" : \"cherry\")\n",
    "print(fruits)"
   ]
  },
  {
   "cell_type": "code",
   "execution_count": 4,
   "metadata": {},
   "outputs": [
    {
     "name": "stdout",
     "output_type": "stream",
     "text": [
      "0\n",
      "He is a good boy\n",
      "and Ha has good habiits\n",
      "1\n",
      "He is a good boy\n",
      "and Ha has good habiits\n",
      "2\n",
      "He is a good boy\n",
      "and Ha has good habiits\n",
      "3\n",
      "He is a good boy\n",
      "and Ha has good habiits\n",
      "4\n",
      "He is a good boy\n",
      "and Ha has good habiits\n",
      "5\n",
      "He is a good boy\n",
      "and Ha has good habiits\n"
     ]
    }
   ],
   "source": [
    "for x in range(0, 6):\n",
    "    print(x)\n",
    "    print(f\"He is a good boy\")\n",
    "    print(\"and Ha has good habiits\")\n"
   ]
  },
  {
   "cell_type": "code",
   "execution_count": null,
   "metadata": {},
   "outputs": [],
   "source": [
    "print(\"Hello World\")"
   ]
  }
 ],
 "metadata": {
  "kernelspec": {
   "display_name": "Python 3",
   "language": "python",
   "name": "python3"
  },
  "language_info": {
   "codemirror_mode": {
    "name": "ipython",
    "version": 3
   },
   "file_extension": ".py",
   "mimetype": "text/x-python",
   "name": "python",
   "nbconvert_exporter": "python",
   "pygments_lexer": "ipython3",
   "version": "3.12.4"
  }
 },
 "nbformat": 4,
 "nbformat_minor": 2
}
